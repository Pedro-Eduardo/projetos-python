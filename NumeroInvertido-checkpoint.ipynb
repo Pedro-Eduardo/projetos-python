{
 "cells": [
  {
   "cell_type": "markdown",
   "id": "7a7c453a",
   "metadata": {},
   "source": [
    "### Faça um algoritmo que solicite ao usuário números e os armazene em um vetor de 20 posições. Crie uma função que recebe o vetor preenchido e substitua todas as ocorrências ímpares por zero, as ocorrências de valores menores do que 30 por 1 e as demais ocorrências por 2.\n",
    "\n",
    "##### Passo à Passo\n",
    "\n",
    "* Solicitar um vetor de 20 posições\n",
    "* modificar valor como enunciado\n",
    "\n"
   ]
  },
  {
   "cell_type": "code",
   "execution_count": 10,
   "id": "eb5d3769",
   "metadata": {},
   "outputs": [
    {
     "name": "stdout",
     "output_type": "stream",
     "text": [
      "Seja Bem Vindo Ao Sistema de Inversão de numeros\n",
      "Por favor! Necessito de 20 números.\n",
      "\n",
      "Digite um valor para a posição 0:1\n",
      "Digite um valor para a posição 1:2\n",
      "Digite um valor para a posição 2:3\n",
      "Digite um valor para a posição 3:4\n",
      "Digite um valor para a posição 4:5\n",
      "Digite um valor para a posição 5:6\n",
      "Digite um valor para a posição 6:7\n",
      "Digite um valor para a posição 7:8\n",
      "Digite um valor para a posição 8:9\n",
      "Digite um valor para a posição 9:10\n",
      "Digite um valor para a posição 10:38\n",
      "Digite um valor para a posição 11:95\n",
      "Digite um valor para a posição 12:64\n",
      "Digite um valor para a posição 13:75\n",
      "Digite um valor para a posição 14:84\n",
      "Digite um valor para a posição 15:88\n",
      "Digite um valor para a posição 16:82\n",
      "Digite um valor para a posição 17:102\n",
      "Digite um valor para a posição 18:100\n",
      "Digite um valor para a posição 19:53\n",
      "Vetor Digitado: [1, 2, 3, 4, 5, 6, 7, 8, 9, 10, 38, 95, 64, 75, 84, 88, 82, 102, 100, 53]\n",
      "Vetor Modificado: [0, 1, 0, 1, 0, 1, 0, 1, 0, 1, 2, 0, 2, 0, 2, 2, 2, 2, 2, 0]\n"
     ]
    }
   ],
   "source": [
    "#Variaveis \n",
    "\n",
    "numeros = []\n",
    "i = 0\n",
    "\n",
    "print(\"Seja Bem Vindo Ao Sistema de Inversão de numeros\")\n",
    "print(\"Por favor! Necessito de 20 números.\")\n",
    "print(\"\")\n",
    "\n",
    "\n",
    "\n",
    "for i in range(0,20):\n",
    "    \n",
    "    numeros.append(int(input(f'Digite um valor para a posição {i}:')))\n",
    "    \n",
    "print(f\"Vetor Digitado: {numeros}\")\n",
    "\n",
    "for i in range(0,20):\n",
    "      impar = numeros[i]%2\n",
    "      if impar == 1:\n",
    "          numeros[i] = 0\n",
    "      elif numeros[i] < 30:\n",
    "          numeros[i] = 1\n",
    "      else:\n",
    "          numeros[i] = 2\n",
    "    \n",
    "print(f\"Vetor Modificado: {numeros}\") "
   ]
  },
  {
   "cell_type": "code",
   "execution_count": null,
   "id": "f087e359",
   "metadata": {},
   "outputs": [],
   "source": [
    "\n"
   ]
  }
 ],
 "metadata": {
  "kernelspec": {
   "display_name": "Python 3",
   "language": "python",
   "name": "python3"
  },
  "language_info": {
   "codemirror_mode": {
    "name": "ipython",
    "version": 3
   },
   "file_extension": ".py",
   "mimetype": "text/x-python",
   "name": "python",
   "nbconvert_exporter": "python",
   "pygments_lexer": "ipython3",
   "version": "3.8.8"
  }
 },
 "nbformat": 4,
 "nbformat_minor": 5
}
