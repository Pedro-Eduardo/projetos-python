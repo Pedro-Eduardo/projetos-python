{
 "cells": [
  {
   "cell_type": "code",
   "execution_count": 14,
   "id": "730b0175",
   "metadata": {},
   "outputs": [
    {
     "name": "stdout",
     "output_type": "stream",
     "text": [
      "Infelizmente não batemos a meta, faltou você vender 20000 \n"
     ]
    }
   ],
   "source": [
    "meta = 50000\n",
    "qtd_vendido = 30000\n",
    "\n",
    "if qtd_vendido >= meta:\n",
    "    print('Batemos a meta de vendas de Iphone, Vedemos {} unidades'.format(qtd_vendido))\n",
    "else:\n",
    "    dfc_venda = meta - qtd_vendido\n",
    "    print('Infelizmente não batemos a meta, faltou você vender {} '.format(dfc_venda))"
   ]
  },
  {
   "cell_type": "markdown",
   "id": "6585345c",
   "metadata": {},
   "source": [
    "# Bloco & Identação"
   ]
  },
  {
   "cell_type": "code",
   "execution_count": 12,
   "id": "3219a4d9",
   "metadata": {},
   "outputs": [
    {
     "name": "stdout",
     "output_type": "stream",
     "text": [
      "A taxa foi de 0.04\n"
     ]
    }
   ],
   "source": [
    "meta = 0.05\n",
    "taxa = 0\n",
    "rendimento = 0.21\n",
    "\n",
    "if rendimento > meta:\n",
    "    if rendimento > 0.20:\n",
    "        taxa = 0.04\n",
    "        print('A taxa foi de {}'.format(taxa))\n",
    "    else:\n",
    "        taxa = 0.02\n",
    "        print('A taxa foi de {}'.format(taxa))\n",
    "else:\n",
    "    taxa = 0\n",
    "    print('A taxa foi de {}'.format(taxa))"
   ]
  },
  {
   "cell_type": "markdown",
   "id": "20350f5e",
   "metadata": {},
   "source": [
    "# Estrutura com elif"
   ]
  },
  {
   "cell_type": "code",
   "execution_count": 17,
   "id": "4eee70d6",
   "metadata": {},
   "outputs": [
    {
     "name": "stdout",
     "output_type": "stream",
     "text": [
      "Ganhou 3500.0000000000005 de bônus\n"
     ]
    }
   ],
   "source": [
    "meta = 20000\n",
    "vendas = 50000\n",
    "\n",
    "if vendas < meta:\n",
    "    print('Não ganhou nada')\n",
    "elif vendas > (meta * 2):\n",
    "    bonus = 0.07 * vendas\n",
    "    print('Ganhou {} de bônus'.format(bonus))\n",
    "else:\n",
    "    bonus = 0.03 * vendas\n",
    "    print('Ganhou {} de bônus'.format(bonus))"
   ]
  },
  {
   "cell_type": "code",
   "execution_count": null,
   "id": "ecc9789b",
   "metadata": {},
   "outputs": [],
   "source": []
  }
 ],
 "metadata": {
  "kernelspec": {
   "display_name": "Python 3",
   "language": "python",
   "name": "python3"
  },
  "language_info": {
   "codemirror_mode": {
    "name": "ipython",
    "version": 3
   },
   "file_extension": ".py",
   "mimetype": "text/x-python",
   "name": "python",
   "nbconvert_exporter": "python",
   "pygments_lexer": "ipython3",
   "version": "3.8.8"
  }
 },
 "nbformat": 4,
 "nbformat_minor": 5
}
