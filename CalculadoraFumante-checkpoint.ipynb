{
 "cells": [
  {
   "cell_type": "markdown",
   "id": "b0e4e491",
   "metadata": {},
   "source": [
    "### Escreva um programa para calcular a redução do tempo de vida de um fumante. Pergunte a quantidade de cigarros fumados por dia e quantos anos ele já fumou. Considere que um fumante perde 10 minutos de vida a cada cigarro, e calcule quantos dias de vida um fumante perderá. Exiba o total em dias.\n",
    "\n",
    "##### Passo a passo\n",
    "\n",
    "* Receber a quantidade de cigarros por dia fumou\n",
    "* Receber a quantidade de anos que ele fumou\n",
    "* Fazer o calculo (10 minutos de vida a cada 1 cigarro e em quanto tempo) 1 cigarro = 10 minutos e 1 ano = \n",
    "* total dias (1440 minutos de um dia) de vida um fumante perderá\n",
    "\n"
   ]
  },
  {
   "cell_type": "code",
   "execution_count": 3,
   "id": "a25117ce",
   "metadata": {},
   "outputs": [
    {
     "name": "stdout",
     "output_type": "stream",
     "text": [
      "Sistema de calculo de vida de um fumante\n",
      "Quantos  cigarros Fuma no dia: 10\n",
      "Quantos  anos Fuma: 8\n",
      "Dias de Vida Perdidos: 202.77777777777777\n"
     ]
    }
   ],
   "source": [
    "print(\"Sistema de calculo de vida de um fumante\")\n",
    "\n",
    "\n",
    "cigarrosPorDia = int(input(\"Quantos  cigarros Fuma no dia: \"))\n",
    "QuantosAnosFuma = int(input(\"Quantos  anos Fuma: \"))\n",
    "\n",
    "\n",
    "TotalDias = QuantosAnosFuma * 365\n",
    "totalCigarros = TotalDias * cigarrosPorDia\n",
    "\n",
    "\n",
    "minutosPerdidos = totalCigarros * 10\n",
    "diasPerdidos = float(minutosPerdidos / 1440)\n",
    "\n",
    "print(f\"Dias de Vida Perdidos: {diasPerdidos}\")"
   ]
  },
  {
   "cell_type": "code",
   "execution_count": null,
   "id": "6d8db1c7",
   "metadata": {},
   "outputs": [],
   "source": []
  }
 ],
 "metadata": {
  "kernelspec": {
   "display_name": "Python 3",
   "language": "python",
   "name": "python3"
  },
  "language_info": {
   "codemirror_mode": {
    "name": "ipython",
    "version": 3
   },
   "file_extension": ".py",
   "mimetype": "text/x-python",
   "name": "python",
   "nbconvert_exporter": "python",
   "pygments_lexer": "ipython3",
   "version": "3.8.8"
  }
 },
 "nbformat": 4,
 "nbformat_minor": 5
}
