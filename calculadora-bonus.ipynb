{
 "cells": [
  {
   "cell_type": "code",
   "execution_count": 5,
   "id": "930a5361",
   "metadata": {},
   "outputs": [
    {
     "name": "stdout",
     "output_type": "stream",
     "text": [
      "O funcionario 1 ganhou  100.0 de bônus\n",
      "O funcionario 2 ganhou  0 de bônus\n",
      "O funcionario 3 ganhou  270.0 de bônus\n"
     ]
    }
   ],
   "source": [
    "vendas_funcionario1 = 1000\n",
    "vendas_funcionario2 = 770\n",
    "vendas_funcionario3 = 2700\n",
    "meta = 1000\n",
    "\n",
    "#crie seu código aqui\n",
    "\n",
    "if vendas_funcionario1  >= meta:\n",
    "    bonus =  vendas_funcionario1 * 0.1\n",
    "    print('O funcionario 1 ganhou  {} de bônus'.format(bonus))\n",
    "    \n",
    "if vendas_funcionario2 >= 1000:\n",
    "    bonus =  vendas_funcionario2 * 0.1\n",
    "else:\n",
    "    bonus = 0\n",
    "print('O funcionario 2 ganhou  {} de bônus'.format(bonus))\n",
    "    \n",
    "if vendas_funcionario3 >= 1000:\n",
    "    bonus =  vendas_funcionario3 * 0.1\n",
    "else:\n",
    "    bonus = 0\n",
    "print('O funcionario 3 ganhou  {} de bônus'.format(bonus))"
   ]
  },
  {
   "cell_type": "markdown",
   "id": "db81c6e6",
   "metadata": {},
   "source": [
    "####  Lógica com uma estrutura mais com Elif  ou if dentro de if"
   ]
  },
  {
   "cell_type": "code",
   "execution_count": 10,
   "id": "61251aa9",
   "metadata": {},
   "outputs": [
    {
     "name": "stdout",
     "output_type": "stream",
     "text": [
      "O funcionario 1 ganhou  100.0 de bônus\n",
      "O funcionario 1 ganhou  0 de bônus\n",
      "O funcionario 1 ganhou  405.0 de bônus\n"
     ]
    }
   ],
   "source": [
    "vendas_funcionario1 = 1000\n",
    "vendas_funcionario2 = 770\n",
    "vendas_funcionario3 = 2700\n",
    "meta = 1000\n",
    "\n",
    "#crie seu código aqui\n",
    "\n",
    "if vendas_funcionario1 >= 2000:\n",
    "    bonus = vendas_funcionario1 * 0.15\n",
    "elif vendas_funcionario1 < 2000 and vendas_funcionario1 >= meta:\n",
    "    bonus = vendas_funcionario1 * 0.10\n",
    "else:\n",
    "    bonus = 0\n",
    "print('O funcionario 1 ganhou  {} de bônus'.format(bonus))\n",
    "\n",
    "### Funcionario 2 \n",
    "\n",
    "if vendas_funcionario2 >= 2000:\n",
    "    bonus = vendas_funcionario2 * 0.15\n",
    "elif vendas_funcionario2 < 2000 and vendas_funcionario2 >= meta:\n",
    "    bonus = vendas_funcionario2 * 0.10\n",
    "else:\n",
    "    bonus = 0\n",
    "print('O funcionario 1 ganhou  {} de bônus'.format(bonus))\n",
    "\n",
    "\n",
    "### Funcionario 3\n",
    "\n",
    "if vendas_funcionario3 >= 2000:\n",
    "    bonus = vendas_funcionario3 * 0.15\n",
    "elif vendas_funcionario3 < 2000 and vendas_funcionario3 >= meta:\n",
    "    bonus = vendas_funcionario3 * 0.10\n",
    "else:\n",
    "    bonus = 0\n",
    "print('O funcionario 1 ganhou  {} de bônus'.format(bonus))"
   ]
  },
  {
   "cell_type": "code",
   "execution_count": 13,
   "id": "ac3bf568",
   "metadata": {},
   "outputs": [
    {
     "name": "stdout",
     "output_type": "stream",
     "text": [
      "Qual é o faturamento da loja ? \n",
      "Qual o custo da  loja ? 1000\n",
      "Preencha o faturamento e o custo corretamente\n"
     ]
    }
   ],
   "source": [
    "#  Comparações contraintuitivas\n",
    "\n",
    "faturamento = input('Qual é o faturamento da loja ? ')\n",
    "custo = input('Qual o custo da  loja ? ')\n",
    "\n",
    "if faturamento == '' or custo == '': #Posso verificar tbm :  if faturamento: ou  if faturamento ou custo: ou if variavel = 0:\n",
    "    print('Preencha o faturamento e o custo corretamente')\n",
    "else:\n",
    "    lucro = int(faturamento) - int(custo)\n",
    "    print('o lucro da loja foi de {} reais'.format(lucro))"
   ]
  },
  {
   "cell_type": "code",
   "execution_count": null,
   "id": "638367e6",
   "metadata": {},
   "outputs": [],
   "source": []
  }
 ],
 "metadata": {
  "kernelspec": {
   "display_name": "Python 3",
   "language": "python",
   "name": "python3"
  },
  "language_info": {
   "codemirror_mode": {
    "name": "ipython",
    "version": 3
   },
   "file_extension": ".py",
   "mimetype": "text/x-python",
   "name": "python",
   "nbconvert_exporter": "python",
   "pygments_lexer": "ipython3",
   "version": "3.8.8"
  }
 },
 "nbformat": 4,
 "nbformat_minor": 5
}
