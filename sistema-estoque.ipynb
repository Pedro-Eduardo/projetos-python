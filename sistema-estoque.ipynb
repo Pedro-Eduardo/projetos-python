{
 "cells": [
  {
   "cell_type": "markdown",
   "id": "ffe5d8fe",
   "metadata": {},
   "source": [
    "# Sistema Controle de Estoque minimo"
   ]
  },
  {
   "cell_type": "code",
   "execution_count": 18,
   "id": "78233592",
   "metadata": {},
   "outputs": [
    {
     "name": "stdout",
     "output_type": "stream",
     "text": [
      "Digite o nome do produto: dolly\n",
      "Digite a categoria do produto: bebida\n",
      "Digite a quantidade do produto: \n",
      "Preencha todos os campos( categoria, nome e produto)\n"
     ]
    }
   ],
   "source": [
    "\n",
    "\n",
    "#Input entrada de valor pelo usuarios\n",
    "\n",
    "produto = input('Digite o nome do produto: ')\n",
    "categoria = input('Digite a categoria do produto: ')\n",
    "qtd = input('Digite a quantidade do produto: ')\n",
    "\n",
    "# Regras do sistema input vázio\n",
    "\n",
    "if produto == '' or categoria == '' or qtd == '':\n",
    "    print('Preencha todos os campos( categoria, nome e produto)')\n",
    "else:\n",
    "    #Regra da Categoria Alimentos\n",
    "    \n",
    "    qtd = int(qtd)\n",
    "        \n",
    "    if categoria == 'alimento':\n",
    "        if  qtd < 50:\n",
    "            print('Solicitar a compra do produto {} , pois temos apenas {} unidades em estoque.'.format(produto, qtd))        \n",
    "    elif categoria  == 'bebida':\n",
    "        if qtd < 75:  \n",
    "            print('Solicitar a compra do produto {} , pois temos apenas {} unidades em estoque.'.format(produto, qtd))\n",
    "    else:\n",
    "        if qtd < 30:\n",
    "            print('Solicitar a compra do produto {} , pois temos apenas {} unidades em estoque.'.format(produto, qtd))\n",
    "        "
   ]
  },
  {
   "cell_type": "code",
   "execution_count": null,
   "id": "40144a57",
   "metadata": {},
   "outputs": [],
   "source": []
  }
 ],
 "metadata": {
  "kernelspec": {
   "display_name": "Python 3",
   "language": "python",
   "name": "python3"
  },
  "language_info": {
   "codemirror_mode": {
    "name": "ipython",
    "version": 3
   },
   "file_extension": ".py",
   "mimetype": "text/x-python",
   "name": "python",
   "nbconvert_exporter": "python",
   "pygments_lexer": "ipython3",
   "version": "3.8.8"
  }
 },
 "nbformat": 4,
 "nbformat_minor": 5
}
