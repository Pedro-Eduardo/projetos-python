{
 "cells": [
  {
   "cell_type": "markdown",
   "id": "5c6921f4",
   "metadata": {},
   "source": [
    "### Crie um programa em Python, onde seja gerado um número randômico entre 1 e 1000, e o sistema dê 10 chances ao usuário de acertar o número gerado. Quando  o usuário errar o número informado o sistema deverá informar se foi maior ou menor do que o número a ser descoberto. Opções para melhorar o  programa: informar a quantidade de chances que faltam e o modo easy imprimindo os númeors que já foram informados. \n",
    "\n",
    "##### Passo à Passo\n",
    "\n",
    "* Gerar um número randomico de 1 a 1000.\n",
    "* Solicitar 10 chances do usuario de acertar\n",
    "* Informar se foi maior ou menor\n",
    "* Informar que está faltando quantidade x de chance\n"
   ]
  },
  {
   "cell_type": "code",
   "execution_count": null,
   "id": "cef680ca",
   "metadata": {},
   "outputs": [
    {
     "name": "stdout",
     "output_type": "stream",
     "text": [
      " Numero sorteado: 971\n",
      " \n",
      "Tente acerta o número. Digite um numero: 800\n",
      "Número Errado!\n",
      "O Seu numero é menor\n",
      "Você Tem mais 9 chance\n",
      "Tente acerta o número. Digite um numero: 980\n",
      "Número Errado!\n",
      "O número que digitou é maior\n",
      "Você Tem mais 8 chance\n"
     ]
    }
   ],
   "source": [
    "#Importar as bibliotecas\n",
    "\n",
    "from random import randint\n",
    "\n",
    "#gerar o numero\n",
    "numero = randint(0,1000)\n",
    "entradaUser = 0\n",
    "numeroSorteadonumero = numero\n",
    "print(f\" Numero sorteado: {numeroSorteadonumero}\")   \n",
    "print(\" \") \n",
    "for i in range(0,10):\n",
    "    entradaUser = int(input(\"Tente acerta o número. Digite um numero: \"))\n",
    "    if entradaUser == numeroSorteadonumero :\n",
    "        print(\"Parabéns!! Você acertou o numero\")\n",
    "        print(\" \") \n",
    "    else:\n",
    "        print(\"Número Errado!\")\n",
    "        if entradaUser > numeroSorteadonumero :\n",
    "             print(\"O número que digitou é maior\") \n",
    "        if entradaUser < numeroSorteadonumero :\n",
    "             print(\"O Seu numero é menor\")\n",
    "        print(f\"Você Tem mais {9-i} chance\")\n",
    "print(f\"Você perdeu o numero sorteado foi: {numeroSorteadonumero}\")        \n",
    "\n",
    "        \n",
    "    \n"
   ]
  },
  {
   "cell_type": "code",
   "execution_count": null,
   "id": "833158cd",
   "metadata": {},
   "outputs": [],
   "source": []
  }
 ],
 "metadata": {
  "kernelspec": {
   "display_name": "Python 3",
   "language": "python",
   "name": "python3"
  },
  "language_info": {
   "codemirror_mode": {
    "name": "ipython",
    "version": 3
   },
   "file_extension": ".py",
   "mimetype": "text/x-python",
   "name": "python",
   "nbconvert_exporter": "python",
   "pygments_lexer": "ipython3",
   "version": "3.8.8"
  }
 },
 "nbformat": 4,
 "nbformat_minor": 5
}
