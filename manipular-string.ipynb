{
 "cells": [
  {
   "cell_type": "markdown",
   "id": "d338539d",
   "metadata": {},
   "source": [
    "0 1 2 3 4 5 6 7 8 9 10 11 12 13 <br>\n",
    "l i r a @ g m a i l  .  c  o  m <br>\n",
    "\n",
    "pegar um item de uma string: texto[indice] <br>\n",
    "Pegar o tamanho de um texto:  len(texto) "
   ]
  },
  {
   "cell_type": "code",
   "execution_count": 12,
   "id": "82568b9f",
   "metadata": {},
   "outputs": [
    {
     "name": "stdout",
     "output_type": "stream",
     "text": [
      "14\n",
      "4\n",
      "a\n"
     ]
    }
   ],
   "source": [
    "nome = 'Lira'\n",
    "email = 'lira@gmail.com'\n",
    "\n",
    "print(len(email))\n",
    "print(len(nome))\n",
    "\n",
    "print(nome[3])"
   ]
  },
  {
   "cell_type": "code",
   "execution_count": null,
   "id": "af7f7d71",
   "metadata": {},
   "outputs": [],
   "source": []
  }
 ],
 "metadata": {
  "kernelspec": {
   "display_name": "Python 3",
   "language": "python",
   "name": "python3"
  },
  "language_info": {
   "codemirror_mode": {
    "name": "ipython",
    "version": 3
   },
   "file_extension": ".py",
   "mimetype": "text/x-python",
   "name": "python",
   "nbconvert_exporter": "python",
   "pygments_lexer": "ipython3",
   "version": "3.8.8"
  }
 },
 "nbformat": 4,
 "nbformat_minor": 5
}
